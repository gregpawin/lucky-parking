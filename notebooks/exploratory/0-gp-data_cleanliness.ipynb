{
 "metadata": {
  "language_info": {
   "codemirror_mode": {
    "name": "ipython",
    "version": 3
   },
   "file_extension": ".py",
   "mimetype": "text/x-python",
   "name": "python",
   "nbconvert_exporter": "python",
   "pygments_lexer": "ipython3",
   "version": "3.7.9-final"
  },
  "orig_nbformat": 2,
  "kernelspec": {
   "name": "python3",
   "display_name": "Python 3",
   "language": "python"
  }
 },
 "nbformat": 4,
 "nbformat_minor": 2,
 "cells": [
  {
   "source": [
    "# Exploration of Car Make and Violation Description Data from The City of Los Angeles Parking Citation Open Dataset\n",
    "\n",
    "## Data cleanliness\n",
    "\n",
    "Building on previous explorations of the Los Angeles Parking Citation Open Dataset, these analyses will further explore the connections between car make and parking violation type. Before going much further, data completeness and consistency has to be explored."
   ],
   "cell_type": "markdown",
   "metadata": {}
  },
  {
   "cell_type": "code",
   "execution_count": 1,
   "metadata": {},
   "outputs": [],
   "source": [
    "import pandas as pd\n",
    "import numpy as np\n",
    "import matplotlib.pyplot as plt\n",
    "from sklearn.decomposition import PCA\n",
    "import os\n",
    "from pathlib import Path\n",
    "import random\n",
    "import seaborn as sns\n",
    "\n",
    "# Load project directory\n",
    "PROJECT_DIR = Path(os.path.abspath('../..'))"
   ]
  },
  {
   "cell_type": "code",
   "execution_count": 67,
   "metadata": {},
   "outputs": [
    {
     "output_type": "execute_result",
     "data": {
      "text/plain": [
       "  Ticket number  Issue Date  Issue time Meter Id  Marked Time RP State Plate  \\\n",
       "0    1111967194  12/22/2015       310.0      NaN          NaN             CA   \n",
       "1    1113011594  12/16/2015      1635.0      NaN          NaN             CA   \n",
       "2    1113011616  12/16/2015      1645.0      NaN          NaN             CA   \n",
       "3    1113965473  12/27/2015      1156.0       45          NaN             CA   \n",
       "4    1113965576  12/24/2015      1014.0      NaN          NaN             CA   \n",
       "\n",
       "   Plate Expiry Date  VIN  Make Body Style  ...  Route Agency Violation code  \\\n",
       "0           201603.0  NaN  TOYO         PA  ...   3L20    2.0            007   \n",
       "1           201510.0  NaN  DODG         PA  ...  13FB4    1.0         4000A1   \n",
       "2           201602.0  NaN  FORD         SU  ...  13FB4    1.0         8056E4   \n",
       "3           201612.0  NaN  MERC         PA  ...  00203   51.0          8058L   \n",
       "4           201611.0  NaN  HOND         PA  ...  00141   51.0         8069BS   \n",
       "\n",
       "   Violation Description Fine amount   Latitude  Longitude  \\\n",
       "0                 22500B        68.0  6439781.9  1802687.3   \n",
       "1     NO EVIDENCE OF REG        50.0    99999.0    99999.0   \n",
       "2               RED ZONE        93.0    99999.0    99999.0   \n",
       "3           PREF PARKING        68.0  6427271.2  1834319.2   \n",
       "4   NO PARK/STREET CLEAN        73.0  6437369.7  1832322.3   \n",
       "\n",
       "   Agency Description  Color Description Body Style Description  \n",
       "0                 NaN                NaN                    NaN  \n",
       "1                 NaN                NaN                    NaN  \n",
       "2                 NaN                NaN                    NaN  \n",
       "3                 NaN                NaN                    NaN  \n",
       "4                 NaN                NaN                    NaN  \n",
       "\n",
       "[5 rows x 22 columns]"
      ],
      "text/html": "<div>\n<style scoped>\n    .dataframe tbody tr th:only-of-type {\n        vertical-align: middle;\n    }\n\n    .dataframe tbody tr th {\n        vertical-align: top;\n    }\n\n    .dataframe thead th {\n        text-align: right;\n    }\n</style>\n<table border=\"1\" class=\"dataframe\">\n  <thead>\n    <tr style=\"text-align: right;\">\n      <th></th>\n      <th>Ticket number</th>\n      <th>Issue Date</th>\n      <th>Issue time</th>\n      <th>Meter Id</th>\n      <th>Marked Time</th>\n      <th>RP State Plate</th>\n      <th>Plate Expiry Date</th>\n      <th>VIN</th>\n      <th>Make</th>\n      <th>Body Style</th>\n      <th>...</th>\n      <th>Route</th>\n      <th>Agency</th>\n      <th>Violation code</th>\n      <th>Violation Description</th>\n      <th>Fine amount</th>\n      <th>Latitude</th>\n      <th>Longitude</th>\n      <th>Agency Description</th>\n      <th>Color Description</th>\n      <th>Body Style Description</th>\n    </tr>\n  </thead>\n  <tbody>\n    <tr>\n      <th>0</th>\n      <td>1111967194</td>\n      <td>12/22/2015</td>\n      <td>310.0</td>\n      <td>NaN</td>\n      <td>NaN</td>\n      <td>CA</td>\n      <td>201603.0</td>\n      <td>NaN</td>\n      <td>TOYO</td>\n      <td>PA</td>\n      <td>...</td>\n      <td>3L20</td>\n      <td>2.0</td>\n      <td>007</td>\n      <td>22500B</td>\n      <td>68.0</td>\n      <td>6439781.9</td>\n      <td>1802687.3</td>\n      <td>NaN</td>\n      <td>NaN</td>\n      <td>NaN</td>\n    </tr>\n    <tr>\n      <th>1</th>\n      <td>1113011594</td>\n      <td>12/16/2015</td>\n      <td>1635.0</td>\n      <td>NaN</td>\n      <td>NaN</td>\n      <td>CA</td>\n      <td>201510.0</td>\n      <td>NaN</td>\n      <td>DODG</td>\n      <td>PA</td>\n      <td>...</td>\n      <td>13FB4</td>\n      <td>1.0</td>\n      <td>4000A1</td>\n      <td>NO EVIDENCE OF REG</td>\n      <td>50.0</td>\n      <td>99999.0</td>\n      <td>99999.0</td>\n      <td>NaN</td>\n      <td>NaN</td>\n      <td>NaN</td>\n    </tr>\n    <tr>\n      <th>2</th>\n      <td>1113011616</td>\n      <td>12/16/2015</td>\n      <td>1645.0</td>\n      <td>NaN</td>\n      <td>NaN</td>\n      <td>CA</td>\n      <td>201602.0</td>\n      <td>NaN</td>\n      <td>FORD</td>\n      <td>SU</td>\n      <td>...</td>\n      <td>13FB4</td>\n      <td>1.0</td>\n      <td>8056E4</td>\n      <td>RED ZONE</td>\n      <td>93.0</td>\n      <td>99999.0</td>\n      <td>99999.0</td>\n      <td>NaN</td>\n      <td>NaN</td>\n      <td>NaN</td>\n    </tr>\n    <tr>\n      <th>3</th>\n      <td>1113965473</td>\n      <td>12/27/2015</td>\n      <td>1156.0</td>\n      <td>45</td>\n      <td>NaN</td>\n      <td>CA</td>\n      <td>201612.0</td>\n      <td>NaN</td>\n      <td>MERC</td>\n      <td>PA</td>\n      <td>...</td>\n      <td>00203</td>\n      <td>51.0</td>\n      <td>8058L</td>\n      <td>PREF PARKING</td>\n      <td>68.0</td>\n      <td>6427271.2</td>\n      <td>1834319.2</td>\n      <td>NaN</td>\n      <td>NaN</td>\n      <td>NaN</td>\n    </tr>\n    <tr>\n      <th>4</th>\n      <td>1113965576</td>\n      <td>12/24/2015</td>\n      <td>1014.0</td>\n      <td>NaN</td>\n      <td>NaN</td>\n      <td>CA</td>\n      <td>201611.0</td>\n      <td>NaN</td>\n      <td>HOND</td>\n      <td>PA</td>\n      <td>...</td>\n      <td>00141</td>\n      <td>51.0</td>\n      <td>8069BS</td>\n      <td>NO PARK/STREET CLEAN</td>\n      <td>73.0</td>\n      <td>6437369.7</td>\n      <td>1832322.3</td>\n      <td>NaN</td>\n      <td>NaN</td>\n      <td>NaN</td>\n    </tr>\n  </tbody>\n</table>\n<p>5 rows × 22 columns</p>\n</div>"
     },
     "metadata": {},
     "execution_count": 67
    }
   ],
   "source": [
    "df = pd.read_csv(PROJECT_DIR / 'data/raw/2021-01-02_raw.csv',skiprows=lambda i: i > 0 and random.random() > .01,)\n",
    "df.head()"
   ]
  },
  {
   "cell_type": "code",
   "execution_count": 3,
   "metadata": {},
   "outputs": [
    {
     "output_type": "execute_result",
     "data": {
      "text/plain": [
       "Violation code           0.003769\n",
       "Violation Description    0.009044\n",
       "dtype: float64"
      ]
     },
     "metadata": {},
     "execution_count": 3
    }
   ],
   "source": [
    "# Missing data\n",
    "df[['Violation code', 'Violation Description']].isna().sum()/len(df)"
   ]
  },
  {
   "cell_type": "code",
   "execution_count": 4,
   "metadata": {},
   "outputs": [
    {
     "output_type": "execute_result",
     "data": {
      "text/plain": [
       "      Violation code Violation Description\n",
       "8942             000                   NaN\n",
       "99156            NaN                   NaN\n",
       "99738         8069AP                   NaN\n",
       "99740          80714                   NaN\n",
       "99742         22502A                   NaN\n",
       "99743          5204A                   NaN\n",
       "99744           5204                   NaN\n",
       "99820         8069BS                   NaN\n",
       "99822         22500I                   NaN\n",
       "99889         4000A1                   NaN"
      ],
      "text/html": "<div>\n<style scoped>\n    .dataframe tbody tr th:only-of-type {\n        vertical-align: middle;\n    }\n\n    .dataframe tbody tr th {\n        vertical-align: top;\n    }\n\n    .dataframe thead th {\n        text-align: right;\n    }\n</style>\n<table border=\"1\" class=\"dataframe\">\n  <thead>\n    <tr style=\"text-align: right;\">\n      <th></th>\n      <th>Violation code</th>\n      <th>Violation Description</th>\n    </tr>\n  </thead>\n  <tbody>\n    <tr>\n      <th>8942</th>\n      <td>000</td>\n      <td>NaN</td>\n    </tr>\n    <tr>\n      <th>99156</th>\n      <td>NaN</td>\n      <td>NaN</td>\n    </tr>\n    <tr>\n      <th>99738</th>\n      <td>8069AP</td>\n      <td>NaN</td>\n    </tr>\n    <tr>\n      <th>99740</th>\n      <td>80714</td>\n      <td>NaN</td>\n    </tr>\n    <tr>\n      <th>99742</th>\n      <td>22502A</td>\n      <td>NaN</td>\n    </tr>\n    <tr>\n      <th>99743</th>\n      <td>5204A</td>\n      <td>NaN</td>\n    </tr>\n    <tr>\n      <th>99744</th>\n      <td>5204</td>\n      <td>NaN</td>\n    </tr>\n    <tr>\n      <th>99820</th>\n      <td>8069BS</td>\n      <td>NaN</td>\n    </tr>\n    <tr>\n      <th>99822</th>\n      <td>22500I</td>\n      <td>NaN</td>\n    </tr>\n    <tr>\n      <th>99889</th>\n      <td>4000A1</td>\n      <td>NaN</td>\n    </tr>\n  </tbody>\n</table>\n</div>"
     },
     "metadata": {},
     "execution_count": 4
    }
   ],
   "source": [
    "# Unique pairs of data with missing data\n",
    "df[['Violation code', 'Violation Description']][df['Violation code'].isna()|df['Violation Description'].isna()].drop_duplicates()[:10]"
   ]
  },
  {
   "cell_type": "code",
   "execution_count": 68,
   "metadata": {},
   "outputs": [],
   "source": [
    "# Remove entries with both violation code and violation description missing\n",
    "df = df[~(df['Violation code'].isna() & df['Violation Description'].isna())]"
   ]
  },
  {
   "cell_type": "code",
   "execution_count": 8,
   "metadata": {},
   "outputs": [
    {
     "output_type": "execute_result",
     "data": {
      "text/plain": [
       "       Violation code Violation Description\n",
       "90                013                22500H\n",
       "656               002                 4000A\n",
       "962               099                  5204\n",
       "1079              013                22500H\n",
       "1250              570              2251157B\n",
       "...               ...                   ...\n",
       "94855             098                  5200\n",
       "94863             024                 22514\n",
       "98485             013                22500H\n",
       "105125            011                22500F\n",
       "105157            011                22500F\n",
       "\n",
       "[446 rows x 2 columns]"
      ],
      "text/html": "<div>\n<style scoped>\n    .dataframe tbody tr th:only-of-type {\n        vertical-align: middle;\n    }\n\n    .dataframe tbody tr th {\n        vertical-align: top;\n    }\n\n    .dataframe thead th {\n        text-align: right;\n    }\n</style>\n<table border=\"1\" class=\"dataframe\">\n  <thead>\n    <tr style=\"text-align: right;\">\n      <th></th>\n      <th>Violation code</th>\n      <th>Violation Description</th>\n    </tr>\n  </thead>\n  <tbody>\n    <tr>\n      <th>90</th>\n      <td>013</td>\n      <td>22500H</td>\n    </tr>\n    <tr>\n      <th>656</th>\n      <td>002</td>\n      <td>4000A</td>\n    </tr>\n    <tr>\n      <th>962</th>\n      <td>099</td>\n      <td>5204</td>\n    </tr>\n    <tr>\n      <th>1079</th>\n      <td>013</td>\n      <td>22500H</td>\n    </tr>\n    <tr>\n      <th>1250</th>\n      <td>570</td>\n      <td>2251157B</td>\n    </tr>\n    <tr>\n      <th>...</th>\n      <td>...</td>\n      <td>...</td>\n    </tr>\n    <tr>\n      <th>94855</th>\n      <td>098</td>\n      <td>5200</td>\n    </tr>\n    <tr>\n      <th>94863</th>\n      <td>024</td>\n      <td>22514</td>\n    </tr>\n    <tr>\n      <th>98485</th>\n      <td>013</td>\n      <td>22500H</td>\n    </tr>\n    <tr>\n      <th>105125</th>\n      <td>011</td>\n      <td>22500F</td>\n    </tr>\n    <tr>\n      <th>105157</th>\n      <td>011</td>\n      <td>22500F</td>\n    </tr>\n  </tbody>\n</table>\n<p>446 rows × 2 columns</p>\n</div>"
     },
     "metadata": {},
     "execution_count": 8
    }
   ],
   "source": [
    "same_codes = set(df['Violation code']).intersection(set(df['Violation Description']))\n",
    "\n",
    "df[['Violation code', 'Violation Description']][df['Violation Description'].isin(same_codes)]"
   ]
  },
  {
   "source": [
    "It would seem that there are a few violation codes that have been entered in as violation descriptions. The codes should be moved over and the descriptions should be deleted. It would seem that the 3 numeral violation codes are not very meaningful sometimes and that 000 is often used for different types violations."
   ],
   "cell_type": "markdown",
   "metadata": {}
  },
  {
   "cell_type": "code",
   "execution_count": 9,
   "metadata": {},
   "outputs": [],
   "source": [
    "# Create function to swap codes and descriptions\n",
    "def code_swap(df):\n",
    "    df['Violation code'] = df['Violation Description']\n",
    "    df['Violation Description'] = np.nan\n",
    "    return df"
   ]
  },
  {
   "cell_type": "code",
   "execution_count": 70,
   "metadata": {},
   "outputs": [],
   "source": [
    "code_swap_filter = (df['Violation Description'].isin(same_codes) | (df['Violation code'] == '000'))\n",
    "\n",
    "df.loc[code_swap_filter,['Violation code', 'Violation Description']] = df[['Violation code', 'Violation Description']][code_swap_filter].apply(code_swap, axis=1)\n",
    "\n",
    "# Remove new entries with both violation code and violation description missing\n",
    "df = df[~(df['Violation code'].isna() & df['Violation Description'].isna())]"
   ]
  },
  {
   "cell_type": "code",
   "execution_count": 71,
   "metadata": {},
   "outputs": [
    {
     "output_type": "execute_result",
     "data": {
      "text/plain": [
       "       Violation code Violation Description\n",
       "21736             017                 22502\n",
       "21717             029                 22521\n",
       "42473             030                 22522\n",
       "4578              031                22523A\n",
       "42586             045                  4000\n",
       "...               ...                   ...\n",
       "37003          89391C       EXCEED TIME LMT\n",
       "3141             8940          PARKING AREA\n",
       "109302          8940A                   NaN\n",
       "21864            8943         PARK IN XWALK\n",
       "42169            8949                   NaN\n",
       "\n",
       "[261 rows x 2 columns]"
      ],
      "text/html": "<div>\n<style scoped>\n    .dataframe tbody tr th:only-of-type {\n        vertical-align: middle;\n    }\n\n    .dataframe tbody tr th {\n        vertical-align: top;\n    }\n\n    .dataframe thead th {\n        text-align: right;\n    }\n</style>\n<table border=\"1\" class=\"dataframe\">\n  <thead>\n    <tr style=\"text-align: right;\">\n      <th></th>\n      <th>Violation code</th>\n      <th>Violation Description</th>\n    </tr>\n  </thead>\n  <tbody>\n    <tr>\n      <th>21736</th>\n      <td>017</td>\n      <td>22502</td>\n    </tr>\n    <tr>\n      <th>21717</th>\n      <td>029</td>\n      <td>22521</td>\n    </tr>\n    <tr>\n      <th>42473</th>\n      <td>030</td>\n      <td>22522</td>\n    </tr>\n    <tr>\n      <th>4578</th>\n      <td>031</td>\n      <td>22523A</td>\n    </tr>\n    <tr>\n      <th>42586</th>\n      <td>045</td>\n      <td>4000</td>\n    </tr>\n    <tr>\n      <th>...</th>\n      <td>...</td>\n      <td>...</td>\n    </tr>\n    <tr>\n      <th>37003</th>\n      <td>89391C</td>\n      <td>EXCEED TIME LMT</td>\n    </tr>\n    <tr>\n      <th>3141</th>\n      <td>8940</td>\n      <td>PARKING AREA</td>\n    </tr>\n    <tr>\n      <th>109302</th>\n      <td>8940A</td>\n      <td>NaN</td>\n    </tr>\n    <tr>\n      <th>21864</th>\n      <td>8943</td>\n      <td>PARK IN XWALK</td>\n    </tr>\n    <tr>\n      <th>42169</th>\n      <td>8949</td>\n      <td>NaN</td>\n    </tr>\n  </tbody>\n</table>\n<p>261 rows × 2 columns</p>\n</div>"
     },
     "metadata": {},
     "execution_count": 71
    }
   ],
   "source": [
    "df[['Violation code', 'Violation Description']].drop_duplicates().sort_values('Violation code')"
   ]
  },
  {
   "cell_type": "code",
   "execution_count": 89,
   "metadata": {},
   "outputs": [],
   "source": [
    "code_dict = {}\n",
    "for code in set(df['Violation code']):\n",
    "    desc_aliases = df.loc[(df['Violation code'] == code), 'Violation Description'].drop_duplicates()        .dropna().to_list()\n",
    "    if desc_aliases:\n",
    "        if len(desc_aliases) > 1:\n",
    "            code_dict[code] = max(desc_aliases, key=len)\n",
    "        else:\n",
    "            code_dict[code] = desc_aliases[0]"
   ]
  },
  {
   "cell_type": "code",
   "execution_count": 90,
   "metadata": {},
   "outputs": [
    {
     "output_type": "execute_result",
     "data": {
      "text/plain": [
       "{'22500B': 'PARKED IN CROSSWALK',\n",
       " '22507.8B': 'DISABLED PARKING/OBS',\n",
       " '80.69A+': 'STOP/STAND PROHIBIT',\n",
       " '8056E2': 'YELLOW ZONE',\n",
       " '22507.8B-': 'DISABLED PARKING/OBSTRUCT ACCESS',\n",
       " '80.61': 'STANDNG IN ALLEY',\n",
       " '80.66.1D': 'RESTRICTED TAXI ZONE',\n",
       " '80.54': 'OVERNIGHT PARKING',\n",
       " '8061#': 'STANDING IN ALLEY',\n",
       " '80.69.1C': 'PK TRAILER',\n",
       " '225001': 'PARK FIRE LANE',\n",
       " '80.69D': \"VEH/LOAD OVR 6' HIGH\",\n",
       " '22500.1+': 'PARKED IN FIRE LANE',\n",
       " '22507.8A-': 'DISABLED PARKING/NO DP ID',\n",
       " '557': '8755*',\n",
       " '80.69BS': 'NO PARK/STREET CLEAN',\n",
       " '22502E': '18 IN. CURB/1 WAY',\n",
       " '5200A': 'DSPLYPLATE A',\n",
       " '22507.8A': 'DISABLED PARKING/NO',\n",
       " '80692*': 'COMVEH RES/OV TM B-2',\n",
       " '553': '80581',\n",
       " '22511.57B': 'DP- RO NOT PRESENT',\n",
       " '80.69.4': 'PK OVERSIZ',\n",
       " '80.75.1': 'AUDIBLE ALARM',\n",
       " '5204A-': 'DISPLAY OF TABS',\n",
       " '80.69C': 'PARKED OVER TIME LIMIT',\n",
       " '80713': 'PARKING/FRONT YARD 1',\n",
       " '22500K': 'PARKED ON BRIDGE',\n",
       " '569': '2251157A',\n",
       " '88.03A': 'OUTSIDE LINES/METER',\n",
       " '22522-': '3 FT. SIDEWALK RAMP',\n",
       " '22507.8C1': 'DISABLED PARKING/BOUNDARIES',\n",
       " '8709D': 'LOADING ZONES',\n",
       " '88.66': 'ELECTRIC CHARGING STATION SPACES',\n",
       " '8070': 'PARK IN GRID LOCK ZN',\n",
       " '88.63B+': 'OFF STR/OVERTIME/MTR',\n",
       " '88.53': 'OFF STR MTR/OUT LINE',\n",
       " '80692': 'COMVEH RES/OV TM LMT',\n",
       " '17104H': 'LOAD/UNLOAD ONLY',\n",
       " '80.58.1': 'CARSHARE PARKING',\n",
       " '80.69AP+': 'NO STOP/STANDING',\n",
       " '8056E1': 'WHITE ZONE',\n",
       " '6344K2': 'NO PARKING BETWEEN POSTED HOURS',\n",
       " '80.58L': 'PREFERENTIAL PARKING',\n",
       " '80.53': 'PARKED IN PARKWAY',\n",
       " '8069BS': 'NO PARK/STREET CLEAN',\n",
       " '556': '8755',\n",
       " '5201': 'POSITION OF PLATES',\n",
       " '8936': 'RED CURB',\n",
       " '80.56E4+': 'RED ZONE',\n",
       " '8061': 'STNDNG IN ALLEY',\n",
       " '8056': 'YELLOW ZONE',\n",
       " '80.72': 'RED FLAG DAY',\n",
       " '22507A': 'OVERSIZED VEHICLE PARKING TOPHAM ST',\n",
       " '22500L-': 'DP-BLKNG ACCESS RAMP',\n",
       " '80661D': 'RESTRICTED ZONE',\n",
       " '80.69AA+': 'NO STOP/STAND',\n",
       " '22500H': 'DOUBLE PARKING',\n",
       " '572521D': 'MT FIRE RD NO PERMIT',\n",
       " '87.55': 'FOR SALE SIGN',\n",
       " '8813B': 'METER EXPIRED',\n",
       " '031': '22523A',\n",
       " '5202': 'PERIOD OF DISPLAY',\n",
       " '8069B': 'NO PARKING',\n",
       " '22511.1B': 'PRK IN ELEC VEH SPACE',\n",
       " '805.6': 'WHITE ZONE',\n",
       " '8056E4': 'RED ZONE',\n",
       " '22502A': '18 IN. CURB/2 WAY',\n",
       " '89391C': 'EXCEED TIME LMT',\n",
       " '85.01': 'REPAIRING VEH/STREET',\n",
       " '8069C': 'PKD OVER TIME LIMIT',\n",
       " '80732': 'EXCEED 72 HOURS',\n",
       " '8606': 'PK OTSD PSTD AR',\n",
       " '8603': 'PK IN PROH AREA',\n",
       " '89391A': 'STOP/STAND PROHB',\n",
       " '8053': 'PKD IN/ON PARKWAY',\n",
       " '8939': 'WHITE CURB',\n",
       " '86.03': 'CITY PARK/PROHIB',\n",
       " '80714#': 'PRIVATE PROPERTY',\n",
       " '80.69.2': 'COMM VEH OVER TIME LIMIT',\n",
       " '572521E': 'OBST FIRE RD',\n",
       " '045': '4000',\n",
       " '80.70': 'NO STOPPING/ANTI-GRIDLOCK ZONE',\n",
       " '8940': 'PARKING AREA',\n",
       " '21113': 'PRKG PUBL GRNDS',\n",
       " '80714': 'PRIVATE PROPERTY',\n",
       " '80.49+': '18 IN/CURB/COMM VEH',\n",
       " '5204A': 'EXPIRED TAGS',\n",
       " '8051A': 'LEFT SIDE OF ROADWAY',\n",
       " '80692**': 'COMVEH RES/OV TM C-3',\n",
       " '22507.8C2': 'DISABLED PARKING/CROSS HATCH',\n",
       " '80.7': 'NO STOPPING/ANTI-GRIDLOCK ZONE',\n",
       " '225078A': 'HANDICAP/NO DP ID',\n",
       " '88.64A': 'TIME LIMIT/CITY LOT',\n",
       " '8501': 'REPAIRING VEH/STREET',\n",
       " '80.73.2': 'EXCEED 72HRS-ST',\n",
       " '22511.56B': 'DP-REFUSE ID',\n",
       " '8863B': 'OFF STR/OVERTIME/MTR',\n",
       " '80.56E2': 'YELLOW ZONE',\n",
       " '8056E3': 'GREEN ZONE',\n",
       " '80.71.3': 'PARKING/FRONT YARD',\n",
       " '030': '22522',\n",
       " '8069A': 'NO STOPPING/STANDING',\n",
       " '8058L': 'PREF PARKING',\n",
       " '88.13B+': 'METER EXP.',\n",
       " '22500A': 'WITHIN INTERSECTION',\n",
       " '22507.8C': 'DISABLED PARKING/CRO',\n",
       " '80.54H1': 'OVNIGHT PRK W/OUT PE',\n",
       " '89355C': 'ILGL EXT OF TM',\n",
       " '2251156B': 'MISUSE/DP PRIVILEGE',\n",
       " '21211B': 'BLK BIKE PATH OR LANE',\n",
       " '4000A1': 'NO EVIDENCE OF REG',\n",
       " '22511.57': 'DP- RO NOT PRESENT',\n",
       " '22500C': 'SAFETY ZONE/CURB',\n",
       " '225078C2': 'HANDICAP/CROSS HATCH',\n",
       " '6344K7': 'PARKING OUTSIDE PARKING STALLS',\n",
       " '86.06': 'CITY PARK/PROHIB',\n",
       " '22500E': 'BLOCKING DRIVEWAY',\n",
       " '22500I-': 'PARKED IN BUS ZONE',\n",
       " '80.69.1A': 'COMM TRAILER/22 FT.',\n",
       " '225078C1': 'HANDICAP/ON LINE',\n",
       " '80691C': 'PARKING UNHITCHED TR',\n",
       " '22515': 'UNATT/MOTOR ON',\n",
       " '5200': 'DISPLAY OF PLATES',\n",
       " '17104C': 'R/PRIV PARKING AREA',\n",
       " '22526': 'BLOCKING INTERSECTION',\n",
       " '80.56E1': 'WHITE ZONE',\n",
       " '80691A': 'COMM TRAILER/22 FT.',\n",
       " '571': '2251157C',\n",
       " '8709B': 'PARK-PSTD AREAS',\n",
       " '22514': 'FIRE HYDRANT',\n",
       " '029': '22521',\n",
       " '80.69B': 'NO PARKING',\n",
       " '8803A': 'PK OUTSD SPACE',\n",
       " '8049': 'WRG SD/NOT PRL',\n",
       " '22500F': 'PARKED ON SIDEWALK',\n",
       " '8072': 'PARK RED FLAG DAY',\n",
       " '80.74': 'CLEANING VEH/STREET',\n",
       " '8074': 'CLEANING VEH/STREET',\n",
       " '8069AP': 'NO STOP/STAND PM',\n",
       " '8073C': 'CATERING/CENTER CITY',\n",
       " '8709K': 'PK OVR PNTD LNS',\n",
       " '80.56E3': 'GREEN ZONE',\n",
       " '8943': 'PARK IN XWALK',\n",
       " '22511.57C': 'DP-ALTERED',\n",
       " '017': '22502',\n",
       " '21113A+': 'PUBLIC GROUNDS',\n",
       " '80731': 'STORING VEH/ON STR',\n",
       " '6344C': 'COMMERCIAL - UNDESIG',\n",
       " '225078B': 'HANDICPD/BLOCKING',\n",
       " '80.71.4': 'PRIVATE PROPERTY',\n",
       " '8069AA': 'NO STOP/STAND AM',\n",
       " '6344K8': 'SIGN POSTED - NO PARKING'}"
      ]
     },
     "metadata": {},
     "execution_count": 90
    }
   ],
   "source": [
    "code_dict"
   ]
  },
  {
   "cell_type": "code",
   "execution_count": 88,
   "metadata": {},
   "outputs": [
    {
     "output_type": "execute_result",
     "data": {
      "text/plain": [
       "'SIGN POSTED - NO PARKING'"
      ]
     },
     "metadata": {},
     "execution_count": 88
    }
   ],
   "source": [
    "max(desc_aliases, key=len)"
   ]
  },
  {
   "cell_type": "code",
   "execution_count": null,
   "metadata": {},
   "outputs": [],
   "source": []
  }
 ]
}