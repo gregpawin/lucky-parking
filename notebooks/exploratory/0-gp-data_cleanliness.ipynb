{
 "metadata": {
  "language_info": {
   "codemirror_mode": {
    "name": "ipython",
    "version": 3
   },
   "file_extension": ".py",
   "mimetype": "text/x-python",
   "name": "python",
   "nbconvert_exporter": "python",
   "pygments_lexer": "ipython3",
   "version": "3.7.9-final"
  },
  "orig_nbformat": 2,
  "kernelspec": {
   "name": "python3",
   "display_name": "Python 3",
   "language": "python"
  }
 },
 "nbformat": 4,
 "nbformat_minor": 2,
 "cells": [
  {
   "source": [
    "# Exploration of Car Make and Violation Description Data from The City of Los Angeles Parking Citation Open Dataset\n",
    "\n",
    "## Data cleanliness\n",
    "\n",
    "Building on previous explorations of the Los Angeles Parking Citation Open Dataset, these analyses will further explore the connections between car make and parking violation type. Before going much further, data completeness and consistency has to be explored."
   ],
   "cell_type": "markdown",
   "metadata": {}
  },
  {
   "cell_type": "code",
   "execution_count": 1,
   "metadata": {},
   "outputs": [],
   "source": [
    "import pandas as pd\n",
    "import numpy as np\n",
    "import matplotlib.pyplot as plt\n",
    "from sklearn.decomposition import PCA\n",
    "import os\n",
    "from pathlib import Path\n",
    "import random\n",
    "import seaborn as sns\n",
    "\n",
    "# Load project directory\n",
    "PROJECT_DIR = Path(os.path.abspath('../..'))"
   ]
  },
  {
   "cell_type": "code",
   "execution_count": 2,
   "metadata": {},
   "outputs": [
    {
     "output_type": "execute_result",
     "data": {
      "text/plain": [
       "  Ticket number  Issue Date  Issue time Meter Id  Marked Time RP State Plate  \\\n",
       "0    1107179581  12/27/2015      1055.0      NaN          NaN             CA   \n",
       "1    1110265251  12/16/2015      1340.0      NaN          NaN             CA   \n",
       "2    1112716673  12/28/2015      1020.0      NaN          NaN             CA   \n",
       "3    1112718025  12/28/2015      1222.0      NaN          NaN             CA   \n",
       "4    1113965031  12/24/2015      1108.0      NaN          NaN             CA   \n",
       "\n",
       "   Plate Expiry Date  VIN  Make Body Style  ...  Route Agency Violation code  \\\n",
       "0           201605.0  NaN  TOYO         PA  ...    NaN   54.0          8058L   \n",
       "1                NaN  NaN   NaN         TR  ...  22MP4    1.0          5204A   \n",
       "2           201601.0  NaN   KIA         PA  ...  00461   54.0         8069BS   \n",
       "3           201510.0  NaN  SATU         PA  ...  00461   54.0          5204A   \n",
       "4           201701.0  NaN  FORD         PA  ...  00141   51.0         8069BS   \n",
       "\n",
       "   Violation Description Fine amount   Latitude  Longitude  \\\n",
       "0           PREF PARKING        68.0    99999.0    99999.0   \n",
       "1           EXPIRED TAGS        25.0    99999.0    99999.0   \n",
       "2   NO PARK/STREET CLEAN        73.0    99999.0    99999.0   \n",
       "3           EXPIRED TAGS        25.0    99999.0    99999.0   \n",
       "4   NO PARK/STREET CLEAN        73.0  6436025.9  1833425.9   \n",
       "\n",
       "   Agency Description  Color Description Body Style Description  \n",
       "0                 NaN                NaN                    NaN  \n",
       "1                 NaN                NaN                    NaN  \n",
       "2                 NaN                NaN                    NaN  \n",
       "3                 NaN                NaN                    NaN  \n",
       "4                 NaN                NaN                    NaN  \n",
       "\n",
       "[5 rows x 22 columns]"
      ],
      "text/html": "<div>\n<style scoped>\n    .dataframe tbody tr th:only-of-type {\n        vertical-align: middle;\n    }\n\n    .dataframe tbody tr th {\n        vertical-align: top;\n    }\n\n    .dataframe thead th {\n        text-align: right;\n    }\n</style>\n<table border=\"1\" class=\"dataframe\">\n  <thead>\n    <tr style=\"text-align: right;\">\n      <th></th>\n      <th>Ticket number</th>\n      <th>Issue Date</th>\n      <th>Issue time</th>\n      <th>Meter Id</th>\n      <th>Marked Time</th>\n      <th>RP State Plate</th>\n      <th>Plate Expiry Date</th>\n      <th>VIN</th>\n      <th>Make</th>\n      <th>Body Style</th>\n      <th>...</th>\n      <th>Route</th>\n      <th>Agency</th>\n      <th>Violation code</th>\n      <th>Violation Description</th>\n      <th>Fine amount</th>\n      <th>Latitude</th>\n      <th>Longitude</th>\n      <th>Agency Description</th>\n      <th>Color Description</th>\n      <th>Body Style Description</th>\n    </tr>\n  </thead>\n  <tbody>\n    <tr>\n      <th>0</th>\n      <td>1107179581</td>\n      <td>12/27/2015</td>\n      <td>1055.0</td>\n      <td>NaN</td>\n      <td>NaN</td>\n      <td>CA</td>\n      <td>201605.0</td>\n      <td>NaN</td>\n      <td>TOYO</td>\n      <td>PA</td>\n      <td>...</td>\n      <td>NaN</td>\n      <td>54.0</td>\n      <td>8058L</td>\n      <td>PREF PARKING</td>\n      <td>68.0</td>\n      <td>99999.0</td>\n      <td>99999.0</td>\n      <td>NaN</td>\n      <td>NaN</td>\n      <td>NaN</td>\n    </tr>\n    <tr>\n      <th>1</th>\n      <td>1110265251</td>\n      <td>12/16/2015</td>\n      <td>1340.0</td>\n      <td>NaN</td>\n      <td>NaN</td>\n      <td>CA</td>\n      <td>NaN</td>\n      <td>NaN</td>\n      <td>NaN</td>\n      <td>TR</td>\n      <td>...</td>\n      <td>22MP4</td>\n      <td>1.0</td>\n      <td>5204A</td>\n      <td>EXPIRED TAGS</td>\n      <td>25.0</td>\n      <td>99999.0</td>\n      <td>99999.0</td>\n      <td>NaN</td>\n      <td>NaN</td>\n      <td>NaN</td>\n    </tr>\n    <tr>\n      <th>2</th>\n      <td>1112716673</td>\n      <td>12/28/2015</td>\n      <td>1020.0</td>\n      <td>NaN</td>\n      <td>NaN</td>\n      <td>CA</td>\n      <td>201601.0</td>\n      <td>NaN</td>\n      <td>KIA</td>\n      <td>PA</td>\n      <td>...</td>\n      <td>00461</td>\n      <td>54.0</td>\n      <td>8069BS</td>\n      <td>NO PARK/STREET CLEAN</td>\n      <td>73.0</td>\n      <td>99999.0</td>\n      <td>99999.0</td>\n      <td>NaN</td>\n      <td>NaN</td>\n      <td>NaN</td>\n    </tr>\n    <tr>\n      <th>3</th>\n      <td>1112718025</td>\n      <td>12/28/2015</td>\n      <td>1222.0</td>\n      <td>NaN</td>\n      <td>NaN</td>\n      <td>CA</td>\n      <td>201510.0</td>\n      <td>NaN</td>\n      <td>SATU</td>\n      <td>PA</td>\n      <td>...</td>\n      <td>00461</td>\n      <td>54.0</td>\n      <td>5204A</td>\n      <td>EXPIRED TAGS</td>\n      <td>25.0</td>\n      <td>99999.0</td>\n      <td>99999.0</td>\n      <td>NaN</td>\n      <td>NaN</td>\n      <td>NaN</td>\n    </tr>\n    <tr>\n      <th>4</th>\n      <td>1113965031</td>\n      <td>12/24/2015</td>\n      <td>1108.0</td>\n      <td>NaN</td>\n      <td>NaN</td>\n      <td>CA</td>\n      <td>201701.0</td>\n      <td>NaN</td>\n      <td>FORD</td>\n      <td>PA</td>\n      <td>...</td>\n      <td>00141</td>\n      <td>51.0</td>\n      <td>8069BS</td>\n      <td>NO PARK/STREET CLEAN</td>\n      <td>73.0</td>\n      <td>6436025.9</td>\n      <td>1833425.9</td>\n      <td>NaN</td>\n      <td>NaN</td>\n      <td>NaN</td>\n    </tr>\n  </tbody>\n</table>\n<p>5 rows × 22 columns</p>\n</div>"
     },
     "metadata": {},
     "execution_count": 2
    }
   ],
   "source": [
    "df = pd.read_csv(PROJECT_DIR / 'data/raw/2021-01-02_raw.csv',skiprows=lambda i: i > 0 and random.random() > .01,)\n",
    "df.head()"
   ]
  },
  {
   "cell_type": "code",
   "execution_count": 3,
   "metadata": {},
   "outputs": [
    {
     "output_type": "execute_result",
     "data": {
      "text/plain": [
       "Violation code           0.004298\n",
       "Violation Description    0.009355\n",
       "dtype: float64"
      ]
     },
     "metadata": {},
     "execution_count": 3
    }
   ],
   "source": [
    "# Missing data\n",
    "df[['Violation code', 'Violation Description']].isna().sum()/len(df)"
   ]
  },
  {
   "cell_type": "code",
   "execution_count": 4,
   "metadata": {},
   "outputs": [
    {
     "output_type": "execute_result",
     "data": {
      "text/plain": [
       "      Violation code Violation Description\n",
       "4714             000                   NaN\n",
       "98690            NaN                   NaN\n",
       "99242         8069AP                   NaN\n",
       "99244          8069A                   NaN\n",
       "99248         4000A1                   NaN\n",
       "99249          22514                   NaN\n",
       "99255          8058L                   NaN\n",
       "99335         8056E4                   NaN\n",
       "99338          8813B                   NaN\n",
       "99419        225078A                   NaN"
      ],
      "text/html": "<div>\n<style scoped>\n    .dataframe tbody tr th:only-of-type {\n        vertical-align: middle;\n    }\n\n    .dataframe tbody tr th {\n        vertical-align: top;\n    }\n\n    .dataframe thead th {\n        text-align: right;\n    }\n</style>\n<table border=\"1\" class=\"dataframe\">\n  <thead>\n    <tr style=\"text-align: right;\">\n      <th></th>\n      <th>Violation code</th>\n      <th>Violation Description</th>\n    </tr>\n  </thead>\n  <tbody>\n    <tr>\n      <th>4714</th>\n      <td>000</td>\n      <td>NaN</td>\n    </tr>\n    <tr>\n      <th>98690</th>\n      <td>NaN</td>\n      <td>NaN</td>\n    </tr>\n    <tr>\n      <th>99242</th>\n      <td>8069AP</td>\n      <td>NaN</td>\n    </tr>\n    <tr>\n      <th>99244</th>\n      <td>8069A</td>\n      <td>NaN</td>\n    </tr>\n    <tr>\n      <th>99248</th>\n      <td>4000A1</td>\n      <td>NaN</td>\n    </tr>\n    <tr>\n      <th>99249</th>\n      <td>22514</td>\n      <td>NaN</td>\n    </tr>\n    <tr>\n      <th>99255</th>\n      <td>8058L</td>\n      <td>NaN</td>\n    </tr>\n    <tr>\n      <th>99335</th>\n      <td>8056E4</td>\n      <td>NaN</td>\n    </tr>\n    <tr>\n      <th>99338</th>\n      <td>8813B</td>\n      <td>NaN</td>\n    </tr>\n    <tr>\n      <th>99419</th>\n      <td>225078A</td>\n      <td>NaN</td>\n    </tr>\n  </tbody>\n</table>\n</div>"
     },
     "metadata": {},
     "execution_count": 4
    }
   ],
   "source": [
    "# Unique pairs of data with missing data\n",
    "df[['Violation code', 'Violation Description']][df['Violation code'].isna()|df['Violation Description'].isna()].drop_duplicates()[:10]"
   ]
  },
  {
   "cell_type": "code",
   "execution_count": 5,
   "metadata": {},
   "outputs": [],
   "source": [
    "# Remove entries with both violation code and violation description missing\n",
    "df = df[~(df['Violation code'].isna() & df['Violation Description'].isna())]"
   ]
  },
  {
   "cell_type": "code",
   "execution_count": 6,
   "metadata": {},
   "outputs": [
    {
     "output_type": "execute_result",
     "data": {
      "text/plain": [
       "       Violation code Violation Description\n",
       "194               024                 22514\n",
       "332               010                22500E\n",
       "1080              024                 22514\n",
       "1191              098                  5200\n",
       "1370              013                22500H\n",
       "...               ...                   ...\n",
       "103026            013                22500H\n",
       "104846            011                22500F\n",
       "104908            010                22500E\n",
       "104909            098                  5200\n",
       "104939            013                22500H\n",
       "\n",
       "[441 rows x 2 columns]"
      ],
      "text/html": "<div>\n<style scoped>\n    .dataframe tbody tr th:only-of-type {\n        vertical-align: middle;\n    }\n\n    .dataframe tbody tr th {\n        vertical-align: top;\n    }\n\n    .dataframe thead th {\n        text-align: right;\n    }\n</style>\n<table border=\"1\" class=\"dataframe\">\n  <thead>\n    <tr style=\"text-align: right;\">\n      <th></th>\n      <th>Violation code</th>\n      <th>Violation Description</th>\n    </tr>\n  </thead>\n  <tbody>\n    <tr>\n      <th>194</th>\n      <td>024</td>\n      <td>22514</td>\n    </tr>\n    <tr>\n      <th>332</th>\n      <td>010</td>\n      <td>22500E</td>\n    </tr>\n    <tr>\n      <th>1080</th>\n      <td>024</td>\n      <td>22514</td>\n    </tr>\n    <tr>\n      <th>1191</th>\n      <td>098</td>\n      <td>5200</td>\n    </tr>\n    <tr>\n      <th>1370</th>\n      <td>013</td>\n      <td>22500H</td>\n    </tr>\n    <tr>\n      <th>...</th>\n      <td>...</td>\n      <td>...</td>\n    </tr>\n    <tr>\n      <th>103026</th>\n      <td>013</td>\n      <td>22500H</td>\n    </tr>\n    <tr>\n      <th>104846</th>\n      <td>011</td>\n      <td>22500F</td>\n    </tr>\n    <tr>\n      <th>104908</th>\n      <td>010</td>\n      <td>22500E</td>\n    </tr>\n    <tr>\n      <th>104909</th>\n      <td>098</td>\n      <td>5200</td>\n    </tr>\n    <tr>\n      <th>104939</th>\n      <td>013</td>\n      <td>22500H</td>\n    </tr>\n  </tbody>\n</table>\n<p>441 rows × 2 columns</p>\n</div>"
     },
     "metadata": {},
     "execution_count": 6
    }
   ],
   "source": [
    "same_codes = set(df['Violation code']).intersection(set(df['Violation Description']))\n",
    "\n",
    "df[['Violation code', 'Violation Description']][df['Violation Description'].isin(same_codes)]"
   ]
  },
  {
   "source": [
    "It would seem that there are a few violation codes that have been entered in as violation descriptions. The codes should be moved over and the descriptions should be deleted. It would seem that the 3 numeral violation codes are not very meaningful sometimes and that 000 is often used for different types violations."
   ],
   "cell_type": "markdown",
   "metadata": {}
  },
  {
   "cell_type": "code",
   "execution_count": 7,
   "metadata": {},
   "outputs": [],
   "source": [
    "# Create function to swap codes and descriptions\n",
    "def code_swap(df):\n",
    "    df['Violation code'] = df['Violation Description']\n",
    "    df['Violation Description'] = np.nan\n",
    "    return df"
   ]
  },
  {
   "cell_type": "code",
   "execution_count": 8,
   "metadata": {},
   "outputs": [],
   "source": [
    "code_swap_filter = (df['Violation Description'].isin(same_codes) | (df['Violation code'] == '000'))\n",
    "\n",
    "df.loc[code_swap_filter,['Violation code', 'Violation Description']] = df[['Violation code', 'Violation Description']][code_swap_filter].apply(code_swap, axis=1)\n",
    "\n",
    "# Remove new entries with both violation code and violation description missing\n",
    "df = df[~(df['Violation code'].isna() & df['Violation Description'].isna())]"
   ]
  },
  {
   "cell_type": "code",
   "execution_count": 9,
   "metadata": {},
   "outputs": [
    {
     "output_type": "execute_result",
     "data": {
      "text/plain": [
       "       Violation code Violation Description\n",
       "4648              022                225078\n",
       "22083             030                 22522\n",
       "13751             031                22523A\n",
       "8908              032                22523B\n",
       "274               099                  5204\n",
       "...               ...                   ...\n",
       "42623           8939B                   NaN\n",
       "104682           8940                   NaN\n",
       "622              8940          PARKING AREA\n",
       "42089           8940B       PK OVR 2 SPACES\n",
       "21885            8942          MORE 18-CURB\n",
       "\n",
       "[249 rows x 2 columns]"
      ],
      "text/html": "<div>\n<style scoped>\n    .dataframe tbody tr th:only-of-type {\n        vertical-align: middle;\n    }\n\n    .dataframe tbody tr th {\n        vertical-align: top;\n    }\n\n    .dataframe thead th {\n        text-align: right;\n    }\n</style>\n<table border=\"1\" class=\"dataframe\">\n  <thead>\n    <tr style=\"text-align: right;\">\n      <th></th>\n      <th>Violation code</th>\n      <th>Violation Description</th>\n    </tr>\n  </thead>\n  <tbody>\n    <tr>\n      <th>4648</th>\n      <td>022</td>\n      <td>225078</td>\n    </tr>\n    <tr>\n      <th>22083</th>\n      <td>030</td>\n      <td>22522</td>\n    </tr>\n    <tr>\n      <th>13751</th>\n      <td>031</td>\n      <td>22523A</td>\n    </tr>\n    <tr>\n      <th>8908</th>\n      <td>032</td>\n      <td>22523B</td>\n    </tr>\n    <tr>\n      <th>274</th>\n      <td>099</td>\n      <td>5204</td>\n    </tr>\n    <tr>\n      <th>...</th>\n      <td>...</td>\n      <td>...</td>\n    </tr>\n    <tr>\n      <th>42623</th>\n      <td>8939B</td>\n      <td>NaN</td>\n    </tr>\n    <tr>\n      <th>104682</th>\n      <td>8940</td>\n      <td>NaN</td>\n    </tr>\n    <tr>\n      <th>622</th>\n      <td>8940</td>\n      <td>PARKING AREA</td>\n    </tr>\n    <tr>\n      <th>42089</th>\n      <td>8940B</td>\n      <td>PK OVR 2 SPACES</td>\n    </tr>\n    <tr>\n      <th>21885</th>\n      <td>8942</td>\n      <td>MORE 18-CURB</td>\n    </tr>\n  </tbody>\n</table>\n<p>249 rows × 2 columns</p>\n</div>"
     },
     "metadata": {},
     "execution_count": 9
    }
   ],
   "source": [
    "df[['Violation code', 'Violation Description']].drop_duplicates().sort_values('Violation code')"
   ]
  },
  {
   "cell_type": "code",
   "execution_count": 10,
   "metadata": {},
   "outputs": [],
   "source": [
    "code_dict = {}\n",
    "for code in set(df['Violation code']):\n",
    "    desc_aliases = df.loc[(df['Violation code'] == code), 'Violation Description'].drop_duplicates()        .dropna().to_list()\n",
    "    if desc_aliases:\n",
    "        if len(desc_aliases) > 1:\n",
    "            code_dict[code] = max(desc_aliases, key=len)\n",
    "        else:\n",
    "            code_dict[code] = desc_aliases[0]"
   ]
  },
  {
   "cell_type": "code",
   "execution_count": 11,
   "metadata": {},
   "outputs": [
    {
     "output_type": "execute_result",
     "data": {
      "text/plain": [
       "{'80731': 'STORING VEH/ON STR',\n",
       " '8939': 'WHITE CURB',\n",
       " '80.7': 'NO STOPPING/ANTI-GRIDLOCK ZONE',\n",
       " '8056': 'YELLOW ZONE',\n",
       " '8051A': 'LEFT SIDE OF ROADWAY',\n",
       " '8942': 'MORE 18-CURB',\n",
       " '8049': 'WRG SD/NOT PRL',\n",
       " '80.69.4': 'PK OVERSIZ',\n",
       " '22507.8C2': 'DISABLED PARKING/CROSS HATCH',\n",
       " '225001': 'PARK FIRE LANE',\n",
       " '22511.57B': 'DP- RO NOT PRESENT',\n",
       " '22502E': '18 IN. CURB/1 WAY',\n",
       " '80694**': 'PK OVERSIZED 3RD',\n",
       " '22523B-': 'ABAND VEH/PUB/PRIV',\n",
       " '80.61': 'STANDNG IN ALLEY',\n",
       " '8936': 'RED CURB',\n",
       " '22500L-': 'DP-BLKNG ACCESS RAMP',\n",
       " '80.69A+': 'STOP/STAND PROHIBIT',\n",
       " '22507.8C1': 'DISABLED PARKING/BOUNDARIES',\n",
       " '80.71.3': 'PARKING/FRONT YARD',\n",
       " '85.01': 'REPAIRING VEH/STREET',\n",
       " '22523A-': 'ABAND VEH/HIGHWAY',\n",
       " '80.56E4+': 'RED ZONE',\n",
       " '22507.8B': 'DISABLED PARKING/OBS',\n",
       " '8603': 'PK IN PROH AREA',\n",
       " '8058L': 'PREF PARKING',\n",
       " '21113A+': 'PUBLIC GROUNDS',\n",
       " '8073': 'ANGLE PKD',\n",
       " '80.58L': 'PREFERENTIAL PARKING',\n",
       " '8069BS': 'NO PARK/STREET CLEAN',\n",
       " '8056E4': 'RED ZONE',\n",
       " '22507.8A': 'DISABLED PARKING/NO',\n",
       " '5202': 'PERIOD OF DISPLAY',\n",
       " '80661D': 'RESTRICTED ZONE',\n",
       " '80.66.1D': 'RESTRICTED TAXI ZONE',\n",
       " '22511.57': 'DP- RO NOT PRESENT',\n",
       " '80692**': 'COMVEH RES/OV TM C-3',\n",
       " '88.64A': 'TIME LIMIT/CITY LOT',\n",
       " '80713': 'PARKING/FRONT YARD 1',\n",
       " '8056E1': 'WHITE ZONE',\n",
       " '8754': 'ADVERTISING ON VEH',\n",
       " '80.70': 'NO STOPPING/ANTI-GRIDLOCK ZONE',\n",
       " '22500L': 'BLOCK HANDICAP ACCES',\n",
       " '22511.56B': 'DP-REFUSE ID',\n",
       " '80692': 'COMVEH RES/OV TM LMT',\n",
       " '8069AA': 'NO STOP/STAND AM',\n",
       " '8709B': 'PARK-PSTD AREAS',\n",
       " '5200': 'DISPLAY OF PLATES',\n",
       " '80.56E3': 'GREEN ZONE',\n",
       " '5200A': 'DSPLYPLATE A',\n",
       " '8069C': 'PKD OVER TIME LIMIT',\n",
       " '4000A1': 'NO EVIDENCE OF REG',\n",
       " '80714': 'PRIVATE PROPERTY',\n",
       " '225078B': 'HANDICPD/BLOCKING',\n",
       " '225078C2': 'HANDICAP/CROSS HATCH',\n",
       " '80692*': 'COMVEH RES/OV TM B-2',\n",
       " '80.69.1A': 'COMM TRAILER/22 FT.',\n",
       " '80.54': 'OVERNIGHT PARKING',\n",
       " '80.56E2': 'YELLOW ZONE',\n",
       " '8069B': 'NO PARKING',\n",
       " '22507A': 'OVERSIZED VEHICLE PARKING TOPHAM ST',\n",
       " '8069D': \"TRAILER   6' HIGH\",\n",
       " '22507.8B-': 'DISABLED PARKING/OBSTRUCT ACCESS',\n",
       " '8056E2': 'YELLOW ZONE',\n",
       " '099': '5204',\n",
       " '88.03A': 'OUTSIDE LINES/METER',\n",
       " '22500C': 'SAFETY ZONE/CURB',\n",
       " '8054H1': 'OVNIGHT PRK W/OUT PE',\n",
       " '572521E': 'OBST FIRE RD',\n",
       " '80.75.1': 'AUDIBLE ALARM',\n",
       " '88.53': 'OFF STR MTR/OUT LINE',\n",
       " '22511.57C': 'DP-ALTERED',\n",
       " '225078C1': 'HANDICAP/ON LINE',\n",
       " '22500H': 'DOUBLE PARKING',\n",
       " '80.69.1C': 'PK TRAILER',\n",
       " '570': '2251157B',\n",
       " '553': '80581',\n",
       " '89355C': 'ILGL EXT OF TM',\n",
       " '030': '22522',\n",
       " '80.53': 'PARKED IN PARKWAY',\n",
       " '80.71.4': 'PRIVATE PROPERTY',\n",
       " '22515': 'UNATT/MOTOR ON',\n",
       " '80.69AP+': 'NO STOP/STANDING',\n",
       " '8053': 'PKD IN/ON PARKWAY',\n",
       " '569': '2251157A',\n",
       " '80691A': 'COMM TRAILER/22 FT.',\n",
       " '88.63B+': 'OFF STR/OVERTIME/MTR',\n",
       " '8069AP': 'NO STOP/STAND PM',\n",
       " '80.69C': 'PARKED OVER TIME LIMIT',\n",
       " '022': '225078',\n",
       " '22526': 'BLOCKING INTERSECTION',\n",
       " '6344K2': 'NO PARKING BETWEEN POSTED HOURS',\n",
       " '8709D': 'LOADING ZONES',\n",
       " '8056E3': 'GREEN ZONE',\n",
       " '86.06': 'CITY PARK/PROHIB',\n",
       " '80.72': 'RED FLAG DAY',\n",
       " '22502A': '18 IN. CURB/2 WAY',\n",
       " '22522-': '3 FT. SIDEWALK RAMP',\n",
       " '86.03': 'CITY PARK/PROHIB',\n",
       " '88.13B+': 'METER EXP.',\n",
       " '8606': 'PK OTSD PSTD AR',\n",
       " '22514': 'FIRE HYDRANT',\n",
       " '8709K': 'PK OVR PNTD LNS',\n",
       " '80694': 'PK OVERSIZED 1ST',\n",
       " '22500A': 'WITHIN INTERSECTION',\n",
       " '89391C': 'EXCEED TIME LMT',\n",
       " '80691C': 'PARKING UNHITCHED TR',\n",
       " '80.72.5': 'PK ON PRIV ST',\n",
       " '22507.8C': 'DISABLED PARKING/CRO',\n",
       " '8813B': 'METER EXPIRED',\n",
       " '22507.8A-': 'DISABLED PARKING/NO DP ID',\n",
       " '22500F': 'PARKED ON SIDEWALK',\n",
       " '22500.1+': 'PARKED IN FIRE LANE',\n",
       " '8070': 'PARK IN GRID LOCK ZN',\n",
       " '80.49+': '18 IN/CURB/COMM VEH',\n",
       " '22511.1B': 'PRK IN ELEC VEH SPACE',\n",
       " '032': '22523B',\n",
       " '80.69B': 'NO PARKING',\n",
       " '22511.57A': 'DP-SUBPLATE',\n",
       " '22500B': 'PARKED IN CROSSWALK',\n",
       " '5204A': 'EXPIRED TAGS',\n",
       " '6344K8': 'SIGN POSTED - NO PARKING',\n",
       " '8940B': 'PK OVR 2 SPACES',\n",
       " '5204A-': 'DISPLAY OF TABS',\n",
       " '80.56E1': 'WHITE ZONE',\n",
       " '22500I-': 'PARKED IN BUS ZONE',\n",
       " '80.73.2': 'EXCEED 72HRS-ST',\n",
       " '031': '22523A',\n",
       " '8702': 'PK NR FIRE HYDR',\n",
       " '8061': 'STNDNG IN ALLEY',\n",
       " '80.69D': \"VEH/LOAD OVR 6' HIGH\",\n",
       " '21113': 'PRKG PUBL GRNDS',\n",
       " '805.6': 'WHITE ZONE',\n",
       " '572521D': 'MT FIRE RD NO PERMIT',\n",
       " '225078A': 'HANDICAP/NO DP ID',\n",
       " '571': '2251157C',\n",
       " '80.69AA+': 'NO STOP/STAND',\n",
       " '17104H': 'LOAD/UNLOAD ONLY',\n",
       " '80732': 'EXCEED 72 HOURS',\n",
       " '80.69.2': 'COMM VEH OVER TIME LIMIT',\n",
       " '80.69BS': 'NO PARK/STREET CLEAN',\n",
       " '22500E': 'BLOCKING DRIVEWAY',\n",
       " '87.55': 'FOR SALE SIGN',\n",
       " '8803A': 'PK OUTSD SPACE',\n",
       " '80.54H1': 'OVNIGHT PRK W/OUT PE',\n",
       " '5201': 'POSITION OF PLATES',\n",
       " '17104C': 'R/PRIV PARKING AREA',\n",
       " '80.74': 'CLEANING VEH/STREET',\n",
       " '88.66': 'ELECTRIC CHARGING STATION SPACES',\n",
       " '8940': 'PARKING AREA',\n",
       " '8074': 'CLEANING VEH/STREET',\n",
       " '80.58.1': 'CARSHARE PARKING',\n",
       " '21211B': 'BLK BIKE PATH OR LANE',\n",
       " '22511': 'VETS EXEMPTION',\n",
       " '8069A': 'NO STOPPING/STANDING',\n",
       " '6344K7': 'PARKING OUTSIDE PARKING STALLS'}"
      ]
     },
     "metadata": {},
     "execution_count": 11
    }
   ],
   "source": [
    "code_dict"
   ]
  },
  {
   "cell_type": "code",
   "execution_count": 21,
   "metadata": {},
   "outputs": [
    {
     "output_type": "execute_result",
     "data": {
      "text/plain": [
       "   Violation code Violation Description\n",
       "25       80.69AP+      NO STOP/STANDING\n",
       "80        80.69A+   STOP/STAND PROHIBIT"
      ],
      "text/html": "<div>\n<style scoped>\n    .dataframe tbody tr th:only-of-type {\n        vertical-align: middle;\n    }\n\n    .dataframe tbody tr th {\n        vertical-align: top;\n    }\n\n    .dataframe thead th {\n        text-align: right;\n    }\n</style>\n<table border=\"1\" class=\"dataframe\">\n  <thead>\n    <tr style=\"text-align: right;\">\n      <th></th>\n      <th>Violation code</th>\n      <th>Violation Description</th>\n    </tr>\n  </thead>\n  <tbody>\n    <tr>\n      <th>25</th>\n      <td>80.69AP+</td>\n      <td>NO STOP/STANDING</td>\n    </tr>\n    <tr>\n      <th>80</th>\n      <td>80.69A+</td>\n      <td>STOP/STAND PROHIBIT</td>\n    </tr>\n  </tbody>\n</table>\n</div>"
     },
     "metadata": {},
     "execution_count": 21
    }
   ],
   "source": [
    "df.loc[df['Violation Description'].isin(['NO STOP/STANDING', 'STOP/STAND PROHIBIT']), ['Violation code', 'Violation Description']].drop_duplicates()"
   ]
  },
  {
   "cell_type": "code",
   "execution_count": null,
   "metadata": {},
   "outputs": [],
   "source": []
  }
 ]
}